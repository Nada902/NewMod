{
  "nbformat": 4,
  "nbformat_minor": 0,
  "metadata": {
    "colab": {
      "provenance": [],
      "name": "ModelInPluse.ipynb",
      "authorship_tag": "ABX9TyO1X2zMyFwoRvsCK8QbQqgu",
      "include_colab_link": true
    },
    "kernelspec": {
      "name": "python3",
      "display_name": "Python 3"
    },
    "language_info": {
      "name": "python"
    }
  },
  "cells": [
    {
      "cell_type": "markdown",
      "metadata": {
        "id": "view-in-github",
        "colab_type": "text"
      },
      "source": [
        "<a href=\"https://colab.research.google.com/github/Nada902/NewMod/blob/Nada/ModelInPluse.ipynb\" target=\"_parent\"><img src=\"https://colab.research.google.com/assets/colab-badge.svg\" alt=\"Open In Colab\"/></a>"
      ]
    },
    {
      "cell_type": "code",
      "execution_count": 2,
      "metadata": {
        "id": "XAv9sOKOikP-",
        "colab": {
          "base_uri": "https://localhost:8080/"
        },
        "outputId": "abb0ba40-6965-44d9-ec00-69629a11b0c2"
      },
      "outputs": [
        {
          "output_type": "stream",
          "name": "stdout",
          "text": [
            "5\n"
          ]
        }
      ],
      "source": [
        "var1=2\n",
        "var2=3\n",
        "print(2+3)"
      ]
    }
  ]
}