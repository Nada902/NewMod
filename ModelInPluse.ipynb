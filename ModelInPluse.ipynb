{
  "nbformat": 4,
  "nbformat_minor": 0,
  "metadata": {
    "colab": {
      "provenance": [],
      "name": "ModelInPluse.ipynb",
      "authorship_tag": "ABX9TyOmDx/CyIgVu95+vr+1HoNy",
      "include_colab_link": true
    },
    "kernelspec": {
      "name": "python3",
      "display_name": "Python 3"
    },
    "language_info": {
      "name": "python"
    }
  },
  "cells": [
    {
      "cell_type": "markdown",
      "metadata": {
        "id": "view-in-github",
        "colab_type": "text"
      },
      "source": [
        "<a href=\"https://colab.research.google.com/github/Nada902/NewMod/blob/Nada/ModelInPluse.ipynb\" target=\"_parent\"><img src=\"https://colab.research.google.com/assets/colab-badge.svg\" alt=\"Open In Colab\"/></a>"
      ]
    },
    {
      "cell_type": "code",
      "execution_count": 2,
      "metadata": {
        "id": "XAv9sOKOikP-",
        "colab": {
          "base_uri": "https://localhost:8080/"
        },
        "outputId": "abb0ba40-6965-44d9-ec00-69629a11b0c2"
      },
      "outputs": [
        {
          "output_type": "stream",
          "name": "stdout",
          "text": [
            "5\n"
          ]
        }
      ],
      "source": [
        "var1=2\n",
        "var2=3\n",
        "print(2+3)"
      ]
    },
    {
      "cell_type": "code",
      "source": [
        "new='nada'\n",
        "new2=' moe'\n",
        "print(new+new2)"
      ],
      "metadata": {
        "id": "nsRalo5Jfujg",
        "outputId": "697b5f8b-d21b-43fd-955b-79efe9555131",
        "colab": {
          "base_uri": "https://localhost:8080/"
        }
      },
      "execution_count": 4,
      "outputs": [
        {
          "output_type": "stream",
          "name": "stdout",
          "text": [
            "nada moe\n"
          ]
        }
      ]
    }
  ]
}